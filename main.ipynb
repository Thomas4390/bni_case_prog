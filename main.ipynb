{
 "cells": [
  {
   "cell_type": "markdown",
   "source": [
    "## Création du filtre de liquidité\n",
    "\n",
    "- idée : filtre dynamique dans le temps\n",
    "- À chaque date de rebalancement de référence (dernier jour de trading le janvier, avril, juillet et octobre) on calcule la liquidité moyenne des 3 derniers mois à partir des poids de référence de l'indice et des données de volumes."
   ],
   "metadata": {
    "collapsed": false
   }
  },
  {
   "cell_type": "code",
   "execution_count": 7,
   "outputs": [],
   "source": [
    "import matplotlib.pyplot as plt\n",
    "from utils import *\n",
    "from preprocessing import read_data, read_gics_sectors, read_reference_index_holdings"
   ],
   "metadata": {
    "collapsed": false
   }
  },
  {
   "cell_type": "code",
   "execution_count": 8,
   "outputs": [],
   "source": [
    "df_px = read_data(\"Constituents PX_LAST data\")\n",
    "df_volume = read_data(\"Constituents PX_VOLUME data\")\n",
    "df_total_ret = read_data(\"Constituents TOT_RET_INDEX data\")\n",
    "df_gics = read_gics_sectors()\n",
    "df_ref = read_reference_index_holdings()"
   ],
   "metadata": {
    "collapsed": false
   }
  },
  {
   "cell_type": "code",
   "execution_count": 9,
   "outputs": [
    {
     "data": {
      "text/plain": "            AAC/B CN Equity  AAH CN Equity  AAR-U CN Equity  AAV CN Equity  \\\nIndex Date                                                                   \n2000-01-04           8750.0         9711.0              NaN        16575.0   \n2000-01-05          23285.0        11400.0              NaN        31275.0   \n2000-01-06          29305.0         8783.0              NaN         5150.0   \n2000-01-07          13695.0        11620.0              NaN         4555.0   \n2000-01-10          16070.0        20453.0              NaN         8384.0   \n\n            ABX CN Equity  AC CN Equity  ACB CN Equity  ACE/A CN Equity  \\\nIndex Date                                                                \n2000-01-04       926579.0           NaN            NaN              NaN   \n2000-01-05      1452213.0           NaN            NaN              NaN   \n2000-01-06       600273.0           NaN            NaN              NaN   \n2000-01-07      1020813.0           NaN            NaN              NaN   \n2000-01-10      1269818.0           NaN            NaN              NaN   \n\n            ACE/B CN Equity  ACM/A CN Equity  ...  WTE CN Equity  \\\nIndex Date                                    ...                  \n2000-01-04              NaN          21396.0  ...        25607.0   \n2000-01-05              NaN           6000.0  ...        55081.0   \n2000-01-06              NaN          38400.0  ...        23580.0   \n2000-01-07              NaN           3400.0  ...        34934.0   \n2000-01-10              NaN          71800.0  ...        19667.0   \n\n            WTN CN Equity  WTO CN Equity  X CN Equity  XG CN Equity  \\\nIndex Date                                                            \n2000-01-04            NaN            NaN          NaN           NaN   \n2000-01-05            NaN            NaN          NaN           NaN   \n2000-01-06            NaN            NaN          NaN           NaN   \n2000-01-07            NaN            NaN          NaN           NaN   \n2000-01-10            NaN            NaN          NaN           NaN   \n\n            YLO CN Equity  YRI CN Equity  ZL CN Equity  ZZZ CN Equity  \\\nIndex Date                                                              \n2000-01-04            NaN         1804.0      510922.0            NaN   \n2000-01-05            NaN         3357.0      343030.0            NaN   \n2000-01-06            NaN         2107.0      518189.0            NaN   \n2000-01-07            NaN          891.0      202823.0            NaN   \n2000-01-10            NaN         2249.0      278023.0            NaN   \n\n            SPTSX Index  \nIndex Date               \n2000-01-04   62662940.0  \n2000-01-05   94698130.0  \n2000-01-06   84015360.0  \n2000-01-07   84001320.0  \n2000-01-10   78874940.0  \n\n[5 rows x 573 columns]",
      "text/html": "<div>\n<style scoped>\n    .dataframe tbody tr th:only-of-type {\n        vertical-align: middle;\n    }\n\n    .dataframe tbody tr th {\n        vertical-align: top;\n    }\n\n    .dataframe thead th {\n        text-align: right;\n    }\n</style>\n<table border=\"1\" class=\"dataframe\">\n  <thead>\n    <tr style=\"text-align: right;\">\n      <th></th>\n      <th>AAC/B CN Equity</th>\n      <th>AAH CN Equity</th>\n      <th>AAR-U CN Equity</th>\n      <th>AAV CN Equity</th>\n      <th>ABX CN Equity</th>\n      <th>AC CN Equity</th>\n      <th>ACB CN Equity</th>\n      <th>ACE/A CN Equity</th>\n      <th>ACE/B CN Equity</th>\n      <th>ACM/A CN Equity</th>\n      <th>...</th>\n      <th>WTE CN Equity</th>\n      <th>WTN CN Equity</th>\n      <th>WTO CN Equity</th>\n      <th>X CN Equity</th>\n      <th>XG CN Equity</th>\n      <th>YLO CN Equity</th>\n      <th>YRI CN Equity</th>\n      <th>ZL CN Equity</th>\n      <th>ZZZ CN Equity</th>\n      <th>SPTSX Index</th>\n    </tr>\n    <tr>\n      <th>Index Date</th>\n      <th></th>\n      <th></th>\n      <th></th>\n      <th></th>\n      <th></th>\n      <th></th>\n      <th></th>\n      <th></th>\n      <th></th>\n      <th></th>\n      <th></th>\n      <th></th>\n      <th></th>\n      <th></th>\n      <th></th>\n      <th></th>\n      <th></th>\n      <th></th>\n      <th></th>\n      <th></th>\n      <th></th>\n    </tr>\n  </thead>\n  <tbody>\n    <tr>\n      <th>2000-01-04</th>\n      <td>8750.0</td>\n      <td>9711.0</td>\n      <td>NaN</td>\n      <td>16575.0</td>\n      <td>926579.0</td>\n      <td>NaN</td>\n      <td>NaN</td>\n      <td>NaN</td>\n      <td>NaN</td>\n      <td>21396.0</td>\n      <td>...</td>\n      <td>25607.0</td>\n      <td>NaN</td>\n      <td>NaN</td>\n      <td>NaN</td>\n      <td>NaN</td>\n      <td>NaN</td>\n      <td>1804.0</td>\n      <td>510922.0</td>\n      <td>NaN</td>\n      <td>62662940.0</td>\n    </tr>\n    <tr>\n      <th>2000-01-05</th>\n      <td>23285.0</td>\n      <td>11400.0</td>\n      <td>NaN</td>\n      <td>31275.0</td>\n      <td>1452213.0</td>\n      <td>NaN</td>\n      <td>NaN</td>\n      <td>NaN</td>\n      <td>NaN</td>\n      <td>6000.0</td>\n      <td>...</td>\n      <td>55081.0</td>\n      <td>NaN</td>\n      <td>NaN</td>\n      <td>NaN</td>\n      <td>NaN</td>\n      <td>NaN</td>\n      <td>3357.0</td>\n      <td>343030.0</td>\n      <td>NaN</td>\n      <td>94698130.0</td>\n    </tr>\n    <tr>\n      <th>2000-01-06</th>\n      <td>29305.0</td>\n      <td>8783.0</td>\n      <td>NaN</td>\n      <td>5150.0</td>\n      <td>600273.0</td>\n      <td>NaN</td>\n      <td>NaN</td>\n      <td>NaN</td>\n      <td>NaN</td>\n      <td>38400.0</td>\n      <td>...</td>\n      <td>23580.0</td>\n      <td>NaN</td>\n      <td>NaN</td>\n      <td>NaN</td>\n      <td>NaN</td>\n      <td>NaN</td>\n      <td>2107.0</td>\n      <td>518189.0</td>\n      <td>NaN</td>\n      <td>84015360.0</td>\n    </tr>\n    <tr>\n      <th>2000-01-07</th>\n      <td>13695.0</td>\n      <td>11620.0</td>\n      <td>NaN</td>\n      <td>4555.0</td>\n      <td>1020813.0</td>\n      <td>NaN</td>\n      <td>NaN</td>\n      <td>NaN</td>\n      <td>NaN</td>\n      <td>3400.0</td>\n      <td>...</td>\n      <td>34934.0</td>\n      <td>NaN</td>\n      <td>NaN</td>\n      <td>NaN</td>\n      <td>NaN</td>\n      <td>NaN</td>\n      <td>891.0</td>\n      <td>202823.0</td>\n      <td>NaN</td>\n      <td>84001320.0</td>\n    </tr>\n    <tr>\n      <th>2000-01-10</th>\n      <td>16070.0</td>\n      <td>20453.0</td>\n      <td>NaN</td>\n      <td>8384.0</td>\n      <td>1269818.0</td>\n      <td>NaN</td>\n      <td>NaN</td>\n      <td>NaN</td>\n      <td>NaN</td>\n      <td>71800.0</td>\n      <td>...</td>\n      <td>19667.0</td>\n      <td>NaN</td>\n      <td>NaN</td>\n      <td>NaN</td>\n      <td>NaN</td>\n      <td>NaN</td>\n      <td>2249.0</td>\n      <td>278023.0</td>\n      <td>NaN</td>\n      <td>78874940.0</td>\n    </tr>\n  </tbody>\n</table>\n<p>5 rows × 573 columns</p>\n</div>"
     },
     "execution_count": 9,
     "metadata": {},
     "output_type": "execute_result"
    }
   ],
   "source": [
    "df_volume.head()"
   ],
   "metadata": {
    "collapsed": false
   }
  },
  {
   "cell_type": "code",
   "execution_count": 14,
   "outputs": [
    {
     "data": {
      "text/plain": "            AAC/B CN Equity  AAH CN Equity  AAR-U CN Equity  AAV CN Equity  \\\nIndex Date                                                                   \n2000-01-04            12.00          12.75              NaN            6.0   \n2000-01-05            12.25          12.55              NaN            6.0   \n2000-01-06            12.50          12.55              NaN            6.0   \n2000-01-07            12.55          12.25              NaN            6.0   \n2000-01-10            13.35          13.00              NaN            5.8   \n\n            ABX CN Equity  AC CN Equity  ACB CN Equity  ACE/A CN Equity  \\\nIndex Date                                                                \n2000-01-04          25.45           NaN            NaN              NaN   \n2000-01-05          25.65           NaN            NaN              NaN   \n2000-01-06          25.80           NaN            NaN              NaN   \n2000-01-07          25.25           NaN            NaN              NaN   \n2000-01-10          25.25           NaN            NaN              NaN   \n\n            ACE/B CN Equity  ACM/A CN Equity  ...  WTE CN Equity  \\\nIndex Date                                    ...                  \n2000-01-04              NaN            13.50  ...         4.9332   \n2000-01-05              NaN            14.00  ...         4.9830   \n2000-01-06              NaN            13.50  ...         4.9830   \n2000-01-07              NaN            13.75  ...         4.9332   \n2000-01-10              NaN            13.50  ...         4.9332   \n\n            WTN CN Equity  WTO CN Equity  X CN Equity  XG CN Equity  \\\nIndex Date                                                            \n2000-01-04            NaN            NaN          NaN           NaN   \n2000-01-05            NaN            NaN          NaN           NaN   \n2000-01-06            NaN            NaN          NaN           NaN   \n2000-01-07            NaN            NaN          NaN           NaN   \n2000-01-10            NaN            NaN          NaN           NaN   \n\n            YLO CN Equity  YRI CN Equity  ZL CN Equity  ZZZ CN Equity  \\\nIndex Date                                                              \n2000-01-04            NaN        11.5505         19.45            NaN   \n2000-01-05            NaN        10.8630         18.60            NaN   \n2000-01-06            NaN        10.7255         18.90            NaN   \n2000-01-07            NaN        11.5505         19.00            NaN   \n2000-01-10            NaN        11.5505         19.00            NaN   \n\n            SPTSX Index  \nIndex Date               \n2000-01-04      8202.60  \n2000-01-05      8119.42  \n2000-01-06      8114.24  \n2000-01-07      8429.42  \n2000-01-10      8602.50  \n\n[5 rows x 573 columns]",
      "text/html": "<div>\n<style scoped>\n    .dataframe tbody tr th:only-of-type {\n        vertical-align: middle;\n    }\n\n    .dataframe tbody tr th {\n        vertical-align: top;\n    }\n\n    .dataframe thead th {\n        text-align: right;\n    }\n</style>\n<table border=\"1\" class=\"dataframe\">\n  <thead>\n    <tr style=\"text-align: right;\">\n      <th></th>\n      <th>AAC/B CN Equity</th>\n      <th>AAH CN Equity</th>\n      <th>AAR-U CN Equity</th>\n      <th>AAV CN Equity</th>\n      <th>ABX CN Equity</th>\n      <th>AC CN Equity</th>\n      <th>ACB CN Equity</th>\n      <th>ACE/A CN Equity</th>\n      <th>ACE/B CN Equity</th>\n      <th>ACM/A CN Equity</th>\n      <th>...</th>\n      <th>WTE CN Equity</th>\n      <th>WTN CN Equity</th>\n      <th>WTO CN Equity</th>\n      <th>X CN Equity</th>\n      <th>XG CN Equity</th>\n      <th>YLO CN Equity</th>\n      <th>YRI CN Equity</th>\n      <th>ZL CN Equity</th>\n      <th>ZZZ CN Equity</th>\n      <th>SPTSX Index</th>\n    </tr>\n    <tr>\n      <th>Index Date</th>\n      <th></th>\n      <th></th>\n      <th></th>\n      <th></th>\n      <th></th>\n      <th></th>\n      <th></th>\n      <th></th>\n      <th></th>\n      <th></th>\n      <th></th>\n      <th></th>\n      <th></th>\n      <th></th>\n      <th></th>\n      <th></th>\n      <th></th>\n      <th></th>\n      <th></th>\n      <th></th>\n      <th></th>\n    </tr>\n  </thead>\n  <tbody>\n    <tr>\n      <th>2000-01-04</th>\n      <td>12.00</td>\n      <td>12.75</td>\n      <td>NaN</td>\n      <td>6.0</td>\n      <td>25.45</td>\n      <td>NaN</td>\n      <td>NaN</td>\n      <td>NaN</td>\n      <td>NaN</td>\n      <td>13.50</td>\n      <td>...</td>\n      <td>4.9332</td>\n      <td>NaN</td>\n      <td>NaN</td>\n      <td>NaN</td>\n      <td>NaN</td>\n      <td>NaN</td>\n      <td>11.5505</td>\n      <td>19.45</td>\n      <td>NaN</td>\n      <td>8202.60</td>\n    </tr>\n    <tr>\n      <th>2000-01-05</th>\n      <td>12.25</td>\n      <td>12.55</td>\n      <td>NaN</td>\n      <td>6.0</td>\n      <td>25.65</td>\n      <td>NaN</td>\n      <td>NaN</td>\n      <td>NaN</td>\n      <td>NaN</td>\n      <td>14.00</td>\n      <td>...</td>\n      <td>4.9830</td>\n      <td>NaN</td>\n      <td>NaN</td>\n      <td>NaN</td>\n      <td>NaN</td>\n      <td>NaN</td>\n      <td>10.8630</td>\n      <td>18.60</td>\n      <td>NaN</td>\n      <td>8119.42</td>\n    </tr>\n    <tr>\n      <th>2000-01-06</th>\n      <td>12.50</td>\n      <td>12.55</td>\n      <td>NaN</td>\n      <td>6.0</td>\n      <td>25.80</td>\n      <td>NaN</td>\n      <td>NaN</td>\n      <td>NaN</td>\n      <td>NaN</td>\n      <td>13.50</td>\n      <td>...</td>\n      <td>4.9830</td>\n      <td>NaN</td>\n      <td>NaN</td>\n      <td>NaN</td>\n      <td>NaN</td>\n      <td>NaN</td>\n      <td>10.7255</td>\n      <td>18.90</td>\n      <td>NaN</td>\n      <td>8114.24</td>\n    </tr>\n    <tr>\n      <th>2000-01-07</th>\n      <td>12.55</td>\n      <td>12.25</td>\n      <td>NaN</td>\n      <td>6.0</td>\n      <td>25.25</td>\n      <td>NaN</td>\n      <td>NaN</td>\n      <td>NaN</td>\n      <td>NaN</td>\n      <td>13.75</td>\n      <td>...</td>\n      <td>4.9332</td>\n      <td>NaN</td>\n      <td>NaN</td>\n      <td>NaN</td>\n      <td>NaN</td>\n      <td>NaN</td>\n      <td>11.5505</td>\n      <td>19.00</td>\n      <td>NaN</td>\n      <td>8429.42</td>\n    </tr>\n    <tr>\n      <th>2000-01-10</th>\n      <td>13.35</td>\n      <td>13.00</td>\n      <td>NaN</td>\n      <td>5.8</td>\n      <td>25.25</td>\n      <td>NaN</td>\n      <td>NaN</td>\n      <td>NaN</td>\n      <td>NaN</td>\n      <td>13.50</td>\n      <td>...</td>\n      <td>4.9332</td>\n      <td>NaN</td>\n      <td>NaN</td>\n      <td>NaN</td>\n      <td>NaN</td>\n      <td>NaN</td>\n      <td>11.5505</td>\n      <td>19.00</td>\n      <td>NaN</td>\n      <td>8602.50</td>\n    </tr>\n  </tbody>\n</table>\n<p>5 rows × 573 columns</p>\n</div>"
     },
     "execution_count": 14,
     "metadata": {},
     "output_type": "execute_result"
    }
   ],
   "source": [
    "df_px.head()"
   ],
   "metadata": {
    "collapsed": false
   }
  },
  {
   "cell_type": "code",
   "execution_count": 15,
   "outputs": [
    {
     "data": {
      "text/plain": "            AAC/B CN Equity  AAH CN Equity  AAR-U CN Equity  AAV CN Equity  \\\nIndex Date                                                                   \n2000-01-04            12.00          12.75              NaN            6.0   \n2000-01-05            12.25          12.55              NaN            6.0   \n2000-01-06            12.50          12.55              NaN            6.0   \n2000-01-07            12.55          12.25              NaN            6.0   \n2000-01-10            13.35          13.00              NaN            5.8   \n\n            ABX CN Equity  AC CN Equity  ACB CN Equity  ACE/A CN Equity  \\\nIndex Date                                                                \n2000-01-04          25.45           NaN            NaN              NaN   \n2000-01-05          25.65           NaN            NaN              NaN   \n2000-01-06          25.80           NaN            NaN              NaN   \n2000-01-07          25.25           NaN            NaN              NaN   \n2000-01-10          25.25           NaN            NaN              NaN   \n\n            ACE/B CN Equity  ACM/A CN Equity  ...  WTE CN Equity  \\\nIndex Date                                    ...                  \n2000-01-04              NaN            13.50  ...         4.9332   \n2000-01-05              NaN            14.00  ...         4.9830   \n2000-01-06              NaN            13.50  ...         4.9830   \n2000-01-07              NaN            13.75  ...         4.9332   \n2000-01-10              NaN            13.50  ...         4.9332   \n\n            WTN CN Equity  WTO CN Equity  X CN Equity  XG CN Equity  \\\nIndex Date                                                            \n2000-01-04            NaN            NaN          NaN           NaN   \n2000-01-05            NaN            NaN          NaN           NaN   \n2000-01-06            NaN            NaN          NaN           NaN   \n2000-01-07            NaN            NaN          NaN           NaN   \n2000-01-10            NaN            NaN          NaN           NaN   \n\n            YLO CN Equity  YRI CN Equity  ZL CN Equity  ZZZ CN Equity  \\\nIndex Date                                                              \n2000-01-04            NaN        11.5505         19.45            NaN   \n2000-01-05            NaN        10.8630         18.60            NaN   \n2000-01-06            NaN        10.7255         18.90            NaN   \n2000-01-07            NaN        11.5505         19.00            NaN   \n2000-01-10            NaN        11.5505         19.00            NaN   \n\n            SPTSX Index  \nIndex Date               \n2000-01-04    8202.6000  \n2000-01-05    8119.5094  \n2000-01-06    8114.3695  \n2000-01-07    8429.5545  \n2000-01-10    8602.6765  \n\n[5 rows x 573 columns]",
      "text/html": "<div>\n<style scoped>\n    .dataframe tbody tr th:only-of-type {\n        vertical-align: middle;\n    }\n\n    .dataframe tbody tr th {\n        vertical-align: top;\n    }\n\n    .dataframe thead th {\n        text-align: right;\n    }\n</style>\n<table border=\"1\" class=\"dataframe\">\n  <thead>\n    <tr style=\"text-align: right;\">\n      <th></th>\n      <th>AAC/B CN Equity</th>\n      <th>AAH CN Equity</th>\n      <th>AAR-U CN Equity</th>\n      <th>AAV CN Equity</th>\n      <th>ABX CN Equity</th>\n      <th>AC CN Equity</th>\n      <th>ACB CN Equity</th>\n      <th>ACE/A CN Equity</th>\n      <th>ACE/B CN Equity</th>\n      <th>ACM/A CN Equity</th>\n      <th>...</th>\n      <th>WTE CN Equity</th>\n      <th>WTN CN Equity</th>\n      <th>WTO CN Equity</th>\n      <th>X CN Equity</th>\n      <th>XG CN Equity</th>\n      <th>YLO CN Equity</th>\n      <th>YRI CN Equity</th>\n      <th>ZL CN Equity</th>\n      <th>ZZZ CN Equity</th>\n      <th>SPTSX Index</th>\n    </tr>\n    <tr>\n      <th>Index Date</th>\n      <th></th>\n      <th></th>\n      <th></th>\n      <th></th>\n      <th></th>\n      <th></th>\n      <th></th>\n      <th></th>\n      <th></th>\n      <th></th>\n      <th></th>\n      <th></th>\n      <th></th>\n      <th></th>\n      <th></th>\n      <th></th>\n      <th></th>\n      <th></th>\n      <th></th>\n      <th></th>\n      <th></th>\n    </tr>\n  </thead>\n  <tbody>\n    <tr>\n      <th>2000-01-04</th>\n      <td>12.00</td>\n      <td>12.75</td>\n      <td>NaN</td>\n      <td>6.0</td>\n      <td>25.45</td>\n      <td>NaN</td>\n      <td>NaN</td>\n      <td>NaN</td>\n      <td>NaN</td>\n      <td>13.50</td>\n      <td>...</td>\n      <td>4.9332</td>\n      <td>NaN</td>\n      <td>NaN</td>\n      <td>NaN</td>\n      <td>NaN</td>\n      <td>NaN</td>\n      <td>11.5505</td>\n      <td>19.45</td>\n      <td>NaN</td>\n      <td>8202.6000</td>\n    </tr>\n    <tr>\n      <th>2000-01-05</th>\n      <td>12.25</td>\n      <td>12.55</td>\n      <td>NaN</td>\n      <td>6.0</td>\n      <td>25.65</td>\n      <td>NaN</td>\n      <td>NaN</td>\n      <td>NaN</td>\n      <td>NaN</td>\n      <td>14.00</td>\n      <td>...</td>\n      <td>4.9830</td>\n      <td>NaN</td>\n      <td>NaN</td>\n      <td>NaN</td>\n      <td>NaN</td>\n      <td>NaN</td>\n      <td>10.8630</td>\n      <td>18.60</td>\n      <td>NaN</td>\n      <td>8119.5094</td>\n    </tr>\n    <tr>\n      <th>2000-01-06</th>\n      <td>12.50</td>\n      <td>12.55</td>\n      <td>NaN</td>\n      <td>6.0</td>\n      <td>25.80</td>\n      <td>NaN</td>\n      <td>NaN</td>\n      <td>NaN</td>\n      <td>NaN</td>\n      <td>13.50</td>\n      <td>...</td>\n      <td>4.9830</td>\n      <td>NaN</td>\n      <td>NaN</td>\n      <td>NaN</td>\n      <td>NaN</td>\n      <td>NaN</td>\n      <td>10.7255</td>\n      <td>18.90</td>\n      <td>NaN</td>\n      <td>8114.3695</td>\n    </tr>\n    <tr>\n      <th>2000-01-07</th>\n      <td>12.55</td>\n      <td>12.25</td>\n      <td>NaN</td>\n      <td>6.0</td>\n      <td>25.25</td>\n      <td>NaN</td>\n      <td>NaN</td>\n      <td>NaN</td>\n      <td>NaN</td>\n      <td>13.75</td>\n      <td>...</td>\n      <td>4.9332</td>\n      <td>NaN</td>\n      <td>NaN</td>\n      <td>NaN</td>\n      <td>NaN</td>\n      <td>NaN</td>\n      <td>11.5505</td>\n      <td>19.00</td>\n      <td>NaN</td>\n      <td>8429.5545</td>\n    </tr>\n    <tr>\n      <th>2000-01-10</th>\n      <td>13.35</td>\n      <td>13.00</td>\n      <td>NaN</td>\n      <td>5.8</td>\n      <td>25.25</td>\n      <td>NaN</td>\n      <td>NaN</td>\n      <td>NaN</td>\n      <td>NaN</td>\n      <td>13.50</td>\n      <td>...</td>\n      <td>4.9332</td>\n      <td>NaN</td>\n      <td>NaN</td>\n      <td>NaN</td>\n      <td>NaN</td>\n      <td>NaN</td>\n      <td>11.5505</td>\n      <td>19.00</td>\n      <td>NaN</td>\n      <td>8602.6765</td>\n    </tr>\n  </tbody>\n</table>\n<p>5 rows × 573 columns</p>\n</div>"
     },
     "execution_count": 15,
     "metadata": {},
     "output_type": "execute_result"
    }
   ],
   "source": [
    "df_total_ret.head()"
   ],
   "metadata": {
    "collapsed": false
   }
  },
  {
   "cell_type": "code",
   "execution_count": 16,
   "outputs": [
    {
     "data": {
      "text/plain": "            Ticker  GICS Sector\n0  AAC/B CN Equity         None\n1    AAH CN Equity         None\n2  AAR-U CN Equity  Real Estate\n3    AAV CN Equity       Energy\n4    ABX CN Equity    Materials",
      "text/html": "<div>\n<style scoped>\n    .dataframe tbody tr th:only-of-type {\n        vertical-align: middle;\n    }\n\n    .dataframe tbody tr th {\n        vertical-align: top;\n    }\n\n    .dataframe thead th {\n        text-align: right;\n    }\n</style>\n<table border=\"1\" class=\"dataframe\">\n  <thead>\n    <tr style=\"text-align: right;\">\n      <th></th>\n      <th>Ticker</th>\n      <th>GICS Sector</th>\n    </tr>\n  </thead>\n  <tbody>\n    <tr>\n      <th>0</th>\n      <td>AAC/B CN Equity</td>\n      <td>None</td>\n    </tr>\n    <tr>\n      <th>1</th>\n      <td>AAH CN Equity</td>\n      <td>None</td>\n    </tr>\n    <tr>\n      <th>2</th>\n      <td>AAR-U CN Equity</td>\n      <td>Real Estate</td>\n    </tr>\n    <tr>\n      <th>3</th>\n      <td>AAV CN Equity</td>\n      <td>Energy</td>\n    </tr>\n    <tr>\n      <th>4</th>\n      <td>ABX CN Equity</td>\n      <td>Materials</td>\n    </tr>\n  </tbody>\n</table>\n</div>"
     },
     "execution_count": 16,
     "metadata": {},
     "output_type": "execute_result"
    }
   ],
   "source": [
    "df_gics.head()"
   ],
   "metadata": {
    "collapsed": false
   }
  },
  {
   "cell_type": "code",
   "execution_count": 17,
   "outputs": [
    {
     "data": {
      "text/plain": "                 Ticker    Weight\nIndex Date                       \n2002-01-31  0112977D CT  0.056640\n2002-01-31  0132533D CT  2.797760\n2002-01-31  0206904D CT  0.705212\n2002-01-31  0227217Q CT  0.140393\n2002-01-31  0334249Q CT  0.501815",
      "text/html": "<div>\n<style scoped>\n    .dataframe tbody tr th:only-of-type {\n        vertical-align: middle;\n    }\n\n    .dataframe tbody tr th {\n        vertical-align: top;\n    }\n\n    .dataframe thead th {\n        text-align: right;\n    }\n</style>\n<table border=\"1\" class=\"dataframe\">\n  <thead>\n    <tr style=\"text-align: right;\">\n      <th></th>\n      <th>Ticker</th>\n      <th>Weight</th>\n    </tr>\n    <tr>\n      <th>Index Date</th>\n      <th></th>\n      <th></th>\n    </tr>\n  </thead>\n  <tbody>\n    <tr>\n      <th>2002-01-31</th>\n      <td>0112977D CT</td>\n      <td>0.056640</td>\n    </tr>\n    <tr>\n      <th>2002-01-31</th>\n      <td>0132533D CT</td>\n      <td>2.797760</td>\n    </tr>\n    <tr>\n      <th>2002-01-31</th>\n      <td>0206904D CT</td>\n      <td>0.705212</td>\n    </tr>\n    <tr>\n      <th>2002-01-31</th>\n      <td>0227217Q CT</td>\n      <td>0.140393</td>\n    </tr>\n    <tr>\n      <th>2002-01-31</th>\n      <td>0334249Q CT</td>\n      <td>0.501815</td>\n    </tr>\n  </tbody>\n</table>\n</div>"
     },
     "execution_count": 17,
     "metadata": {},
     "output_type": "execute_result"
    }
   ],
   "source": [
    "df_ref.head()"
   ],
   "metadata": {
    "collapsed": false
   }
  },
  {
   "cell_type": "code",
   "execution_count": 10,
   "outputs": [
    {
     "data": {
      "text/plain": "((5810, 573), (5810, 573), (5830, 573), (572, 2), (61152, 2))"
     },
     "execution_count": 10,
     "metadata": {},
     "output_type": "execute_result"
    }
   ],
   "source": [
    "df_volume.shape, df_px.shape, df_total_ret.shape, df_gics.shape, df_ref.shape"
   ],
   "metadata": {
    "collapsed": false
   }
  },
  {
   "cell_type": "code",
   "execution_count": 13,
   "outputs": [
    {
     "data": {
      "text/plain": "            AAC/B CN Equity  AAH CN Equity  AAR-U CN Equity  AAV CN Equity  \\\nIndex Date                                                                   \n2000-01-04           8750.0         9711.0              NaN        16575.0   \n2000-01-05          23285.0        11400.0              NaN        31275.0   \n2000-01-06          29305.0         8783.0              NaN         5150.0   \n2000-01-07          13695.0        11620.0              NaN         4555.0   \n2000-01-10          16070.0        20453.0              NaN         8384.0   \n...                     ...            ...              ...            ...   \n2022-12-22              NaN            NaN              NaN      1228248.0   \n2022-12-23              NaN            NaN              NaN       898735.0   \n2022-12-28              NaN            NaN              NaN      1477605.0   \n2022-12-29              NaN            NaN              NaN      1353704.0   \n2022-12-30              NaN            NaN              NaN      1247361.0   \n\n            ABX CN Equity  AC CN Equity  ACB CN Equity  ACE/A CN Equity  \\\nIndex Date                                                                \n2000-01-04       926579.0           NaN            NaN              NaN   \n2000-01-05      1452213.0           NaN            NaN              NaN   \n2000-01-06       600273.0           NaN            NaN              NaN   \n2000-01-07      1020813.0           NaN            NaN              NaN   \n2000-01-10      1269818.0           NaN            NaN              NaN   \n...                   ...           ...            ...              ...   \n2022-12-22      6959963.0     2948587.0      3467182.0              NaN   \n2022-12-23      6510750.0     2199482.0      1811017.0              NaN   \n2022-12-28     10668831.0     4472163.0      4727413.0              NaN   \n2022-12-29      7926612.0     4423120.0      2811080.0              NaN   \n2022-12-30      3524030.0     2607730.0      2950406.0              NaN   \n\n            ACE/B CN Equity  ACM/A CN Equity  ...  WSP CN Equity  \\\nIndex Date                                    ...                  \n2000-01-04              NaN          21396.0  ...            NaN   \n2000-01-05              NaN           6000.0  ...            NaN   \n2000-01-06              NaN          38400.0  ...            NaN   \n2000-01-07              NaN           3400.0  ...            NaN   \n2000-01-10              NaN          71800.0  ...            NaN   \n...                     ...              ...  ...            ...   \n2022-12-22              NaN              NaN  ...       199407.0   \n2022-12-23              NaN              NaN  ...       123579.0   \n2022-12-28              NaN              NaN  ...       184946.0   \n2022-12-29              NaN              NaN  ...       101318.0   \n2022-12-30              NaN              NaN  ...       149308.0   \n\n            WTE CN Equity  WTN CN Equity  WTO CN Equity  X CN Equity  \\\nIndex Date                                                             \n2000-01-04        25607.0            NaN            NaN          NaN   \n2000-01-05        55081.0            NaN            NaN          NaN   \n2000-01-06        23580.0            NaN            NaN          NaN   \n2000-01-07        34934.0            NaN            NaN          NaN   \n2000-01-10        19667.0            NaN            NaN          NaN   \n...                   ...            ...            ...          ...   \n2022-12-22       162937.0            NaN            NaN      55049.0   \n2022-12-23       114166.0            NaN            NaN      79987.0   \n2022-12-28       142018.0            NaN            NaN      92335.0   \n2022-12-29        60166.0            NaN            NaN      64377.0   \n2022-12-30        63813.0            NaN            NaN      59716.0   \n\n            XG CN Equity  YLO CN Equity  YRI CN Equity  ZL CN Equity  \\\nIndex Date                                                             \n2000-01-04           NaN            NaN            NaN      510922.0   \n2000-01-05           NaN            NaN            NaN      343030.0   \n2000-01-06           NaN            NaN            NaN      518189.0   \n2000-01-07           NaN            NaN            NaN      202823.0   \n2000-01-10           NaN            NaN            NaN      278023.0   \n...                  ...            ...            ...           ...   \n2022-12-22           NaN            NaN      1676407.0           NaN   \n2022-12-23           NaN            NaN      2852294.0           NaN   \n2022-12-28           NaN            NaN      1810390.0           NaN   \n2022-12-29           NaN            NaN      1403448.0           NaN   \n2022-12-30           NaN            NaN      1643838.0           NaN   \n\n            ZZZ CN Equity  \nIndex Date                 \n2000-01-04            NaN  \n2000-01-05            NaN  \n2000-01-06            NaN  \n2000-01-07            NaN  \n2000-01-10            NaN  \n...                   ...  \n2022-12-22       160819.0  \n2022-12-23       161553.0  \n2022-12-28        68716.0  \n2022-12-29        81527.0  \n2022-12-30        45042.0  \n\n[5778 rows x 572 columns]",
      "text/html": "<div>\n<style scoped>\n    .dataframe tbody tr th:only-of-type {\n        vertical-align: middle;\n    }\n\n    .dataframe tbody tr th {\n        vertical-align: top;\n    }\n\n    .dataframe thead th {\n        text-align: right;\n    }\n</style>\n<table border=\"1\" class=\"dataframe\">\n  <thead>\n    <tr style=\"text-align: right;\">\n      <th></th>\n      <th>AAC/B CN Equity</th>\n      <th>AAH CN Equity</th>\n      <th>AAR-U CN Equity</th>\n      <th>AAV CN Equity</th>\n      <th>ABX CN Equity</th>\n      <th>AC CN Equity</th>\n      <th>ACB CN Equity</th>\n      <th>ACE/A CN Equity</th>\n      <th>ACE/B CN Equity</th>\n      <th>ACM/A CN Equity</th>\n      <th>...</th>\n      <th>WSP CN Equity</th>\n      <th>WTE CN Equity</th>\n      <th>WTN CN Equity</th>\n      <th>WTO CN Equity</th>\n      <th>X CN Equity</th>\n      <th>XG CN Equity</th>\n      <th>YLO CN Equity</th>\n      <th>YRI CN Equity</th>\n      <th>ZL CN Equity</th>\n      <th>ZZZ CN Equity</th>\n    </tr>\n    <tr>\n      <th>Index Date</th>\n      <th></th>\n      <th></th>\n      <th></th>\n      <th></th>\n      <th></th>\n      <th></th>\n      <th></th>\n      <th></th>\n      <th></th>\n      <th></th>\n      <th></th>\n      <th></th>\n      <th></th>\n      <th></th>\n      <th></th>\n      <th></th>\n      <th></th>\n      <th></th>\n      <th></th>\n      <th></th>\n      <th></th>\n    </tr>\n  </thead>\n  <tbody>\n    <tr>\n      <th>2000-01-04</th>\n      <td>8750.0</td>\n      <td>9711.0</td>\n      <td>NaN</td>\n      <td>16575.0</td>\n      <td>926579.0</td>\n      <td>NaN</td>\n      <td>NaN</td>\n      <td>NaN</td>\n      <td>NaN</td>\n      <td>21396.0</td>\n      <td>...</td>\n      <td>NaN</td>\n      <td>25607.0</td>\n      <td>NaN</td>\n      <td>NaN</td>\n      <td>NaN</td>\n      <td>NaN</td>\n      <td>NaN</td>\n      <td>NaN</td>\n      <td>510922.0</td>\n      <td>NaN</td>\n    </tr>\n    <tr>\n      <th>2000-01-05</th>\n      <td>23285.0</td>\n      <td>11400.0</td>\n      <td>NaN</td>\n      <td>31275.0</td>\n      <td>1452213.0</td>\n      <td>NaN</td>\n      <td>NaN</td>\n      <td>NaN</td>\n      <td>NaN</td>\n      <td>6000.0</td>\n      <td>...</td>\n      <td>NaN</td>\n      <td>55081.0</td>\n      <td>NaN</td>\n      <td>NaN</td>\n      <td>NaN</td>\n      <td>NaN</td>\n      <td>NaN</td>\n      <td>NaN</td>\n      <td>343030.0</td>\n      <td>NaN</td>\n    </tr>\n    <tr>\n      <th>2000-01-06</th>\n      <td>29305.0</td>\n      <td>8783.0</td>\n      <td>NaN</td>\n      <td>5150.0</td>\n      <td>600273.0</td>\n      <td>NaN</td>\n      <td>NaN</td>\n      <td>NaN</td>\n      <td>NaN</td>\n      <td>38400.0</td>\n      <td>...</td>\n      <td>NaN</td>\n      <td>23580.0</td>\n      <td>NaN</td>\n      <td>NaN</td>\n      <td>NaN</td>\n      <td>NaN</td>\n      <td>NaN</td>\n      <td>NaN</td>\n      <td>518189.0</td>\n      <td>NaN</td>\n    </tr>\n    <tr>\n      <th>2000-01-07</th>\n      <td>13695.0</td>\n      <td>11620.0</td>\n      <td>NaN</td>\n      <td>4555.0</td>\n      <td>1020813.0</td>\n      <td>NaN</td>\n      <td>NaN</td>\n      <td>NaN</td>\n      <td>NaN</td>\n      <td>3400.0</td>\n      <td>...</td>\n      <td>NaN</td>\n      <td>34934.0</td>\n      <td>NaN</td>\n      <td>NaN</td>\n      <td>NaN</td>\n      <td>NaN</td>\n      <td>NaN</td>\n      <td>NaN</td>\n      <td>202823.0</td>\n      <td>NaN</td>\n    </tr>\n    <tr>\n      <th>2000-01-10</th>\n      <td>16070.0</td>\n      <td>20453.0</td>\n      <td>NaN</td>\n      <td>8384.0</td>\n      <td>1269818.0</td>\n      <td>NaN</td>\n      <td>NaN</td>\n      <td>NaN</td>\n      <td>NaN</td>\n      <td>71800.0</td>\n      <td>...</td>\n      <td>NaN</td>\n      <td>19667.0</td>\n      <td>NaN</td>\n      <td>NaN</td>\n      <td>NaN</td>\n      <td>NaN</td>\n      <td>NaN</td>\n      <td>NaN</td>\n      <td>278023.0</td>\n      <td>NaN</td>\n    </tr>\n    <tr>\n      <th>...</th>\n      <td>...</td>\n      <td>...</td>\n      <td>...</td>\n      <td>...</td>\n      <td>...</td>\n      <td>...</td>\n      <td>...</td>\n      <td>...</td>\n      <td>...</td>\n      <td>...</td>\n      <td>...</td>\n      <td>...</td>\n      <td>...</td>\n      <td>...</td>\n      <td>...</td>\n      <td>...</td>\n      <td>...</td>\n      <td>...</td>\n      <td>...</td>\n      <td>...</td>\n      <td>...</td>\n    </tr>\n    <tr>\n      <th>2022-12-22</th>\n      <td>NaN</td>\n      <td>NaN</td>\n      <td>NaN</td>\n      <td>1228248.0</td>\n      <td>6959963.0</td>\n      <td>2948587.0</td>\n      <td>3467182.0</td>\n      <td>NaN</td>\n      <td>NaN</td>\n      <td>NaN</td>\n      <td>...</td>\n      <td>199407.0</td>\n      <td>162937.0</td>\n      <td>NaN</td>\n      <td>NaN</td>\n      <td>55049.0</td>\n      <td>NaN</td>\n      <td>NaN</td>\n      <td>1676407.0</td>\n      <td>NaN</td>\n      <td>160819.0</td>\n    </tr>\n    <tr>\n      <th>2022-12-23</th>\n      <td>NaN</td>\n      <td>NaN</td>\n      <td>NaN</td>\n      <td>898735.0</td>\n      <td>6510750.0</td>\n      <td>2199482.0</td>\n      <td>1811017.0</td>\n      <td>NaN</td>\n      <td>NaN</td>\n      <td>NaN</td>\n      <td>...</td>\n      <td>123579.0</td>\n      <td>114166.0</td>\n      <td>NaN</td>\n      <td>NaN</td>\n      <td>79987.0</td>\n      <td>NaN</td>\n      <td>NaN</td>\n      <td>2852294.0</td>\n      <td>NaN</td>\n      <td>161553.0</td>\n    </tr>\n    <tr>\n      <th>2022-12-28</th>\n      <td>NaN</td>\n      <td>NaN</td>\n      <td>NaN</td>\n      <td>1477605.0</td>\n      <td>10668831.0</td>\n      <td>4472163.0</td>\n      <td>4727413.0</td>\n      <td>NaN</td>\n      <td>NaN</td>\n      <td>NaN</td>\n      <td>...</td>\n      <td>184946.0</td>\n      <td>142018.0</td>\n      <td>NaN</td>\n      <td>NaN</td>\n      <td>92335.0</td>\n      <td>NaN</td>\n      <td>NaN</td>\n      <td>1810390.0</td>\n      <td>NaN</td>\n      <td>68716.0</td>\n    </tr>\n    <tr>\n      <th>2022-12-29</th>\n      <td>NaN</td>\n      <td>NaN</td>\n      <td>NaN</td>\n      <td>1353704.0</td>\n      <td>7926612.0</td>\n      <td>4423120.0</td>\n      <td>2811080.0</td>\n      <td>NaN</td>\n      <td>NaN</td>\n      <td>NaN</td>\n      <td>...</td>\n      <td>101318.0</td>\n      <td>60166.0</td>\n      <td>NaN</td>\n      <td>NaN</td>\n      <td>64377.0</td>\n      <td>NaN</td>\n      <td>NaN</td>\n      <td>1403448.0</td>\n      <td>NaN</td>\n      <td>81527.0</td>\n    </tr>\n    <tr>\n      <th>2022-12-30</th>\n      <td>NaN</td>\n      <td>NaN</td>\n      <td>NaN</td>\n      <td>1247361.0</td>\n      <td>3524030.0</td>\n      <td>2607730.0</td>\n      <td>2950406.0</td>\n      <td>NaN</td>\n      <td>NaN</td>\n      <td>NaN</td>\n      <td>...</td>\n      <td>149308.0</td>\n      <td>63813.0</td>\n      <td>NaN</td>\n      <td>NaN</td>\n      <td>59716.0</td>\n      <td>NaN</td>\n      <td>NaN</td>\n      <td>1643838.0</td>\n      <td>NaN</td>\n      <td>45042.0</td>\n    </tr>\n  </tbody>\n</table>\n<p>5778 rows × 572 columns</p>\n</div>"
     },
     "execution_count": 13,
     "metadata": {},
     "output_type": "execute_result"
    }
   ],
   "source": [
    "pd.read_parquet(\"converted_data/filtered_data.parquet\")"
   ],
   "metadata": {
    "collapsed": false
   }
  },
  {
   "cell_type": "code",
   "execution_count": null,
   "outputs": [],
   "source": [],
   "metadata": {
    "collapsed": false
   }
  }
 ],
 "metadata": {
  "kernelspec": {
   "display_name": "Python 3",
   "language": "python",
   "name": "python3"
  },
  "language_info": {
   "codemirror_mode": {
    "name": "ipython",
    "version": 2
   },
   "file_extension": ".py",
   "mimetype": "text/x-python",
   "name": "python",
   "nbconvert_exporter": "python",
   "pygments_lexer": "ipython2",
   "version": "2.7.6"
  }
 },
 "nbformat": 4,
 "nbformat_minor": 0
}
